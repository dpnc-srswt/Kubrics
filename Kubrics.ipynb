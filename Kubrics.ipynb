{
  "nbformat": 4,
  "nbformat_minor": 0,
  "metadata": {
    "colab": {
      "name": "Kubrics.ipynb",
      "provenance": [],
      "collapsed_sections": []
    },
    "kernelspec": {
      "name": "python3",
      "display_name": "Python 3"
    }
  },
  "cells": [
    {
      "cell_type": "code",
      "metadata": {
        "colab": {
          "base_uri": "https://localhost:8080/",
          "height": 162
        },
        "id": "bNYeVQ9pa49z",
        "outputId": "3a264703-fcc3-4494-91eb-e20600f75ed8"
      },
      "source": [
        "import requests\n",
        "import pandas as pd\n",
        "import scipy\n",
        "import numpy as np\n",
        "import sys\n",
        "from sklearn.linear_model import LinearRegression\n",
        "lm = LinearRegression()\n",
        "from sklearn.metrics import r2_score\n",
        "\n",
        "\n",
        "TRAIN_DATA_URL = \"https://storage.googleapis.com/kubric-hiring/linreg_train.csv\"\n",
        "TEST_DATA_URL = \"https://storage.googleapis.com/kubric-hiring/linreg_test.csv\"\n",
        "\n",
        "\n",
        "def predict_price(area) -> float:\n",
        "    \"\"\"\n",
        "    This method must accept as input an array `area` (represents a list of areas sizes in sq feet) and must return the respective predicted prices (price per sq foot) using the linear regression model that you build.\n",
        "\n",
        "    You can run this program from the command line using `python3 regression.py`.\n",
        "    \"\"\"\n",
        "    data = pd.read_csv(\"linreg_train.csv\")\n",
        "    x = data[\"area\"]\n",
        "    y = data[\"price\"]\n",
        "    test  = pd.read_csv(\"linreg_test.csv\")\n",
        "    \n",
        "\n",
        "    x2 = np.array(x).reshape((-1, 1))\n",
        "    y2 = np.array(y).reshape((-1, 1))\n",
        "    X3 = np.array(area).reshape((-1, 1))\n",
        "\n",
        "    from sklearn.linear_model import LinearRegression \n",
        "    lm = LinearRegression()\n",
        "    lm.fit(x2, y2)\n",
        "    predictions = lm.predict(X3)\n",
        "    return predictions\n",
        "    # YOUR IMPLEMENTATION HERE\n",
        "    ...\n",
        "\n",
        "\n",
        "if __name__ == \"__main__\":\n",
        "    # DO NOT CHANGE THE FOLLOWING CODE\n",
        "    from data import validation_data\n",
        "    areas = numpy.array(list(validation_data.keys()))\n",
        "    prices = numpy.array(list(validation_data.values()))\n",
        "    predicted_prices = predict_price(areas)\n",
        "    rmse = numpy.sqrt(numpy.mean((predicted_prices - prices) ** 2))\n",
        "    try:\n",
        "        assert rmse < 170\n",
        "    except AssertionError:\n",
        "        print(f\"Root mean squared error is too high - {rmse}. Expected it to be under 170\")\n",
        "        sys.exit(1)\n",
        "    print(f\"Success. RMSE = {rmse}\")\n"
      ],
      "execution_count": 29,
      "outputs": [
        {
          "output_type": "stream",
          "text": [
            "Root mean squared error is too high - 517.5493443741624. Expected it to be under 170\n"
          ],
          "name": "stdout"
        },
        {
          "output_type": "error",
          "ename": "SystemExit",
          "evalue": "ignored",
          "traceback": [
            "An exception has occurred, use %tb to see the full traceback.\n",
            "\u001b[0;31mSystemExit\u001b[0m\u001b[0;31m:\u001b[0m 1\n"
          ]
        },
        {
          "output_type": "stream",
          "text": [
            "/usr/local/lib/python3.6/dist-packages/IPython/core/interactiveshell.py:2890: UserWarning: To exit: use 'exit', 'quit', or Ctrl-D.\n",
            "  warn(\"To exit: use 'exit', 'quit', or Ctrl-D.\", stacklevel=1)\n"
          ],
          "name": "stderr"
        }
      ]
    },
    {
      "cell_type": "code",
      "metadata": {
        "id": "uDw6CA1cj2Ya"
      },
      "source": [
        ""
      ],
      "execution_count": null,
      "outputs": []
    }
  ]
}